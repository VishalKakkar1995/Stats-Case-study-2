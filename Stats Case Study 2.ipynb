{
 "cells": [
  {
   "cell_type": "code",
   "execution_count": 1,
   "metadata": {},
   "outputs": [],
   "source": [
    "import pandas as pd\n",
    "import numpy as np\n",
    "import math\n",
    "import scipy.stats as stats"
   ]
  },
  {
   "cell_type": "code",
   "execution_count": 2,
   "metadata": {},
   "outputs": [
    {
     "data": {
      "text/html": [
       "<div>\n",
       "<style scoped>\n",
       "    .dataframe tbody tr th:only-of-type {\n",
       "        vertical-align: middle;\n",
       "    }\n",
       "\n",
       "    .dataframe tbody tr th {\n",
       "        vertical-align: top;\n",
       "    }\n",
       "\n",
       "    .dataframe thead th {\n",
       "        text-align: right;\n",
       "    }\n",
       "</style>\n",
       "<table border=\"1\" class=\"dataframe\">\n",
       "  <thead>\n",
       "    <tr style=\"text-align: right;\">\n",
       "      <th></th>\n",
       "      <th>Sr No</th>\n",
       "      <th>S_Cust_id</th>\n",
       "      <th>Samsung Score</th>\n",
       "      <th>Apple_Cust_id</th>\n",
       "      <th>Apple_Score</th>\n",
       "    </tr>\n",
       "  </thead>\n",
       "  <tbody>\n",
       "    <tr>\n",
       "      <th>0</th>\n",
       "      <td>1</td>\n",
       "      <td>S336499</td>\n",
       "      <td>94</td>\n",
       "      <td>A336525</td>\n",
       "      <td>82</td>\n",
       "    </tr>\n",
       "    <tr>\n",
       "      <th>1</th>\n",
       "      <td>2</td>\n",
       "      <td>S73004</td>\n",
       "      <td>99</td>\n",
       "      <td>A73011</td>\n",
       "      <td>83</td>\n",
       "    </tr>\n",
       "    <tr>\n",
       "      <th>2</th>\n",
       "      <td>3</td>\n",
       "      <td>S79537</td>\n",
       "      <td>74</td>\n",
       "      <td>A79538</td>\n",
       "      <td>88</td>\n",
       "    </tr>\n",
       "    <tr>\n",
       "      <th>3</th>\n",
       "      <td>4</td>\n",
       "      <td>S769168</td>\n",
       "      <td>74</td>\n",
       "      <td>A769222</td>\n",
       "      <td>80</td>\n",
       "    </tr>\n",
       "    <tr>\n",
       "      <th>4</th>\n",
       "      <td>5</td>\n",
       "      <td>S609791</td>\n",
       "      <td>83</td>\n",
       "      <td>A609801</td>\n",
       "      <td>74</td>\n",
       "    </tr>\n",
       "  </tbody>\n",
       "</table>\n",
       "</div>"
      ],
      "text/plain": [
       "   Sr No S_Cust_id  Samsung Score Apple_Cust_id  Apple_Score\n",
       "0      1   S336499             94       A336525           82\n",
       "1      2    S73004             99        A73011           83\n",
       "2      3    S79537             74        A79538           88\n",
       "3      4   S769168             74       A769222           80\n",
       "4      5   S609791             83       A609801           74"
      ]
     },
     "execution_count": 2,
     "metadata": {},
     "output_type": "execute_result"
    }
   ],
   "source": [
    "Data=pd.read_csv(\"C:/Users/Vishal/Desktop/Python/8. Basic Stats - Case Study-2/Testing_Of_Hypothesis.csv\")\n",
    "\n",
    "Data.head()"
   ]
  },
  {
   "cell_type": "code",
   "execution_count": 3,
   "metadata": {},
   "outputs": [
    {
     "name": "stdout",
     "output_type": "stream",
     "text": [
      "a. In order to check if the Samsungs average satisfaction score is minimum 75% we'll be doing the one sample t test taking the null hypothesis that the average of Samsung score is 75% i.e ho=75\n",
      "\n",
      " Ttest_1sampResult(statistic=8.358287450922418, pvalue=4.0739777034636007e-13)\n",
      "\n",
      "As we can see that the P value is extremely small our null hypothesis doen't hold true for this. Also on checking the mean we can see that \n",
      "The mean of Samsung score= 84.9\n",
      "\n",
      "The value of mean is 84.9 which is much greater than 75, thus we can conclude that it's greater than 75%\n"
     ]
    }
   ],
   "source": [
    "print(\"a. In order to check if the Samsungs average satisfaction score is minimum 75% we'll be doing the one sample t test taking the null hypothesis that the average of Samsung score is 75% i.e ho=75\")\n",
    "\n",
    "print(\"\\n\",stats.ttest_1samp(a=Data['Samsung Score'],popmean=75))\n",
    "\n",
    "print(\"\\nAs we can see that the P value is extremely small our null hypothesis doen't hold true for this. Also on checking the mean we can see that \")\n",
    "\n",
    "print(\"The mean of Samsung score=\",Data['Samsung Score'].mean())\n",
    "\n",
    "print(\"\\nThe value of mean is 84.9 which is much greater than 75, thus we can conclude that it's greater than 75%\")"
   ]
  },
  {
   "cell_type": "code",
   "execution_count": 4,
   "metadata": {},
   "outputs": [
    {
     "name": "stdout",
     "output_type": "stream",
     "text": [
      "b. In order to check if the overall average satisfaction score of Samsung is same as Apple we'll be doing the 2 sample t test taking the hypothesis that the Average of two is equal to each other\n",
      "\n",
      " Ttest_indResult(statistic=-1.9064295935043472, pvalue=0.058042614444118075)\n",
      "\n",
      "On seeing the P value we can see that it meets requiremnts of 95% confidance value. As it is greater tha 0.05 our null hypothesis will be true thus we can say that the Average of two is same and there is no signifiance difference. On checking the mean\n",
      "\n",
      "The Mean for Samsung Score = 84.9\n",
      "The Mean for Apple Score = 87.81\n",
      "The mean is somewhat close to each other so we can conclude that there is ver little difference in the values\n"
     ]
    }
   ],
   "source": [
    "print(\"b. In order to check if the overall average satisfaction score of Samsung is same as Apple we'll be doing the 2 sample t test taking the hypothesis that the Average of two is equal to each other\")\n",
    "\n",
    "print(\"\\n\",stats.ttest_ind(a=Data['Samsung Score'],b=Data['Apple_Score'],equal_var=True))\n",
    "\n",
    "print(\"\\nOn seeing the P value we can see that it meets requiremnts of 95% confidance value. As it is greater tha 0.05 our null hypothesis will be true thus we can say that the Average of two is same and there is no signifiance difference. On checking the mean\")\n",
    "\n",
    "print(\"\\nThe Mean for Samsung Score =\",Data['Samsung Score'].mean())\n",
    "print(\"The Mean for Apple Score =\",Data['Apple_Score'].mean())\n",
    "\n",
    "print(\"The mean is somewhat close to each other so we can conclude that there is ver little difference in the values\")"
   ]
  },
  {
   "cell_type": "code",
   "execution_count": null,
   "metadata": {},
   "outputs": [],
   "source": []
  }
 ],
 "metadata": {
  "kernelspec": {
   "display_name": "Python 3",
   "language": "python",
   "name": "python3"
  },
  "language_info": {
   "codemirror_mode": {
    "name": "ipython",
    "version": 3
   },
   "file_extension": ".py",
   "mimetype": "text/x-python",
   "name": "python",
   "nbconvert_exporter": "python",
   "pygments_lexer": "ipython3",
   "version": "3.7.3"
  }
 },
 "nbformat": 4,
 "nbformat_minor": 2
}
